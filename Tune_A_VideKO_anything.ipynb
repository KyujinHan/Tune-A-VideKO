{
  "cells": [
    {
      "cell_type": "markdown",
      "metadata": {
        "id": "7igAgV-5SMVT"
      },
      "source": [
        "### step0) Colab 환경 설정"
      ]
    },
    {
      "cell_type": "code",
      "execution_count": null,
      "metadata": {
        "id": "Yqai6qcLaw8v"
      },
      "outputs": [],
      "source": [
        "# https://colab.research.google.com/github/showlab/Tune-A-Video/blob/main/notebooks/Tune-A-Video.ipynb#scrollTo=jjcSXTp-u-Eg"
      ]
    },
    {
      "cell_type": "code",
      "execution_count": null,
      "metadata": {
        "colab": {
          "base_uri": "https://localhost:8080/"
        },
        "id": "pskFIQEiaSk5",
        "outputId": "12573064-3872-4830-ffbe-c62eb4624052"
      },
      "outputs": [],
      "source": [
        "#@markdown Check type of GPU and VRAM available.\n",
        "!nvidia-smi --query-gpu=name,memory.total,memory.free --format=csv,noheader"
      ]
    },
    {
      "cell_type": "code",
      "execution_count": null,
      "metadata": {
        "colab": {
          "base_uri": "https://localhost:8080/"
        },
        "id": "hBSQTX0sPG1j",
        "outputId": "77fd24ef-d2cc-403c-8918-8505ea6f776a"
      },
      "outputs": [],
      "source": [
        "from google.colab import drive\n",
        "drive.mount('/content/drive')"
      ]
    },
    {
      "cell_type": "code",
      "execution_count": null,
      "metadata": {
        "colab": {
          "base_uri": "https://localhost:8080/"
        },
        "id": "YZocftwrScJb",
        "outputId": "df97ad0b-9552-4db1-823c-f309b8add956"
      },
      "outputs": [],
      "source": [
        "#@title Install requirements\n",
        "\n",
        "!git clone https://github.com/showlab/Tune-A-Video.git /content/drive/MyDrive/TAV-KO\n",
        "%cd /content/drive/MyDrive/TAV-KO\n",
        "# %pip install -r requirements.txt\n",
        "%pip install -q -U --pre triton\n",
        "%pip install -q diffusers[torch]==0.11.1 transformers==4.26.0 bitsandbytes==0.35.4 \\\n",
        "decord accelerate omegaconf einops ftfy gradio imageio-ffmpeg xformers"
      ]
    },
    {
      "cell_type": "code",
      "execution_count": null,
      "metadata": {
        "colab": {
          "base_uri": "https://localhost:8080/"
        },
        "id": "k1dZx1e-O9F4",
        "outputId": "6cf8042a-ac49-4cb4-ce87-5348fdcb7c90"
      },
      "outputs": [],
      "source": [
        "%cd ./"
      ]
    },
    {
      "cell_type": "code",
      "execution_count": null,
      "metadata": {
        "colab": {
          "base_uri": "https://localhost:8080/"
        },
        "id": "R3mDK1V2aUUU",
        "outputId": "cd6744f5-f885-4bf6-cc65-8698148948b8"
      },
      "outputs": [],
      "source": [
        "#@title Download pretrained model\n",
        "\n",
        "#@markdown Name/Path of the initial model.\n",
        "MODEL_NAME = \"kyujinpy/KO-anything-v4-5\" #@param {type:\"string\"}\n",
        "\n",
        "#@markdown If model should be download from a remote repo. Untick it if the model is loaded from a local path.\n",
        "download_pretrained_model = True #@param {type:\"boolean\"}\n",
        "if download_pretrained_model:\n",
        "    !git lfs install\n",
        "    !git clone https://huggingface.co/$MODEL_NAME checkpoints/$MODEL_NAME\n",
        "    MODEL_NAME = f\"./checkpoints/{MODEL_NAME}\"\n",
        "print(f\"[*] MODEL_NAME={MODEL_NAME}\")"
      ]
    },
    {
      "cell_type": "code",
      "execution_count": null,
      "metadata": {
        "colab": {
          "base_uri": "https://localhost:8080/"
        },
        "id": "TuAFkwqkagL_",
        "outputId": "95220372-7288-4dc6-bced-825476c80d0d"
      },
      "outputs": [],
      "source": [
        "#@markdown If model weights should be saved directly in google drive (takes around 4-5 GB).\n",
        "save_to_gdrive = False #@param {type:\"boolean\"}\n",
        "if save_to_gdrive:\n",
        "    from google.colab import drive\n",
        "    drive.mount('/content/drive')\n",
        "\n",
        "#@markdown Enter the directory name to save model at.\n",
        "\n",
        "OUTPUT_DIR = \"outputs/bear_guitar\" #@param {type:\"string\"}\n",
        "if save_to_gdrive:\n",
        "    OUTPUT_DIR = \"/content/drive/MyDrive/\" + OUTPUT_DIR\n",
        "\n",
        "print(f\"[*] Weights will be saved at {OUTPUT_DIR}\")\n",
        "\n",
        "!mkdir -p $OUTPUT_DIR"
      ]
    },
    {
      "cell_type": "markdown",
      "metadata": {
        "id": "RSiBcLG_aoWj"
      },
      "source": [
        "## Training"
      ]
    },
    {
      "cell_type": "code",
      "execution_count": null,
      "metadata": {
        "id": "bbbNVt_VagR-"
      },
      "outputs": [],
      "source": [
        "#@markdown Train config\n",
        "\n",
        "from omegaconf import OmegaConf\n",
        "\n",
        "CONFIG_NAME = \"configs/bear_guitar.yaml\" #@param {type:\"string\"}\n",
        "\n",
        "train_video_path = \"data/bear_guitar.mp4\" #@param {type:\"string\"}\n",
        "train_prompt = \"A bear is playing guitar\" #@param {type:\"string\"} # Must korean (or english)\n",
        "video_length = 14 #@param {type:\"number\"}\n",
        "width = 512 #@param {type:\"number\"}\n",
        "height = 512 #@param {type:\"number\"}\n",
        "learning_rate = 3e-5 #@param {type:\"number\"}\n",
        "train_steps = 400 #@param {type:\"number\"} // paper 500 steps\n",
        "\n",
        "config = {\n",
        "  \"pretrained_model_path\": MODEL_NAME,\n",
        "  \"output_dir\": OUTPUT_DIR,\n",
        "  \"train_data\": {\n",
        "    \"video_path\": train_video_path,\n",
        "    \"prompt\": train_prompt,\n",
        "    \"n_sample_frames\": video_length,\n",
        "    \"width\": width,\n",
        "    \"height\": height,\n",
        "    \"sample_start_idx\": 0,\n",
        "    \"sample_frame_rate\": 2,\n",
        "  },\n",
        "  \"validation_data\": {\n",
        "    \"prompts\": [\n",
        "      \"1소녀는 기타를 연주하고 있다, 흰 머리, 중간 머리, 고양이 귀, 닫힌 눈, 귀여운, 스카프, 재킷, 야외, 거리, 소녀\", # you can change this sentences!\n",
        "      \"1소년은 기타를 연주하고 있다, 강아지 귀, 귀여운, 흰색 스카프, 눈, 관찰자\",\n",
        "      \"1소녀, 기타 연주, 빨간 머리, 긴 머리, 아름다운, 관찰자, 귀여운, 해변, 바다\",\n",
        "    ],\n",
        "    \"video_length\": video_length,\n",
        "    \"width\": width,\n",
        "    \"height\": height,\n",
        "    \"num_inference_steps\": 20,\n",
        "    \"guidance_scale\": 12.5,\n",
        "    \"use_inv_latent\": True,\n",
        "    \"num_inv_steps\": 50,\n",
        "  },\n",
        "  \"learning_rate\": learning_rate,\n",
        "  \"train_batch_size\": 1,\n",
        "  \"max_train_steps\": train_steps,\n",
        "  \"checkpointing_steps\": 1000,\n",
        "  \"validation_steps\": 100,\n",
        "  \"trainable_modules\": [\n",
        "    \"attn1.to_q\",\n",
        "    \"attn2.to_q\",\n",
        "    \"attn_temp\",\n",
        "  ],\n",
        "  \"seed\": 33,\n",
        "  \"mixed_precision\": \"fp16\",\n",
        "  \"use_8bit_adam\": False,\n",
        "  \"gradient_checkpointing\": True,\n",
        "  \"enable_xformers_memory_efficient_attention\": True,\n",
        "}\n",
        "\n",
        "OmegaConf.save(config, CONFIG_NAME)"
      ]
    },
    {
      "cell_type": "code",
      "execution_count": null,
      "metadata": {
        "colab": {
          "base_uri": "https://localhost:8080/",
          "height": 35
        },
        "id": "0vq0ef1Ce2Ew",
        "outputId": "a87f8b05-db30-45c2-ece5-6bf1ecf53aed"
      },
      "outputs": [],
      "source": [
        "# If TypeError: The keyword `fps` is no longer supported. Use `duration`(in ms) instead, e.g. `fps=50` == `duration=20` (1000 * 1/50),\n",
        "'''\n",
        "In, /content/drive/MyDrive/TAV-KO/tuneavideo/util.py\n",
        "imageio.mimsave(path, outputs, fps=fps)\n",
        "--> imageio.mimsave(path, outputs, duration=fps)\n",
        "'''"
      ]
    },
    {
      "cell_type": "code",
      "execution_count": null,
      "metadata": {
        "colab": {
          "base_uri": "https://localhost:8080/"
        },
        "id": "0MH7Pv-gagUe",
        "outputId": "a1eb0bf4-ab33-490c-8393-06f5e4b80c93"
      },
      "outputs": [],
      "source": [
        "!accelerate launch train_tuneavideo.py --config=$CONFIG_NAME"
      ]
    },
    {
      "cell_type": "markdown",
      "metadata": {
        "id": "iJj-_xIAb6_L"
      },
      "source": [
        "## Inference"
      ]
    },
    {
      "cell_type": "code",
      "execution_count": null,
      "metadata": {
        "colab": {
          "base_uri": "https://localhost:8080/"
        },
        "id": "tAxVPRBmagW8",
        "outputId": "a8f932f4-21b0-4c18-bd3f-2f93461922a2"
      },
      "outputs": [],
      "source": [
        "import torch\n",
        "from torch import autocast\n",
        "from diffusers import DDIMScheduler\n",
        "from tuneavideo.pipelines.pipeline_tuneavideo import TuneAVideoPipeline\n",
        "from tuneavideo.models.unet import UNet3DConditionModel\n",
        "from tuneavideo.util import save_videos_grid\n",
        "\n",
        "\n",
        "unet = UNet3DConditionModel.from_pretrained(OUTPUT_DIR, subfolder='unet', torch_dtype=torch.float16).to('cuda')\n",
        "scheduler = DDIMScheduler.from_pretrained(MODEL_NAME, subfolder='scheduler')\n",
        "pipe = TuneAVideoPipeline.from_pretrained(MODEL_NAME, unet=unet, scheduler=scheduler, torch_dtype=torch.float16).to(\"cuda\")\n",
        "pipe.enable_xformers_memory_efficient_attention()\n",
        "pipe.enable_vae_slicing()\n",
        "\n",
        "g_cuda = None"
      ]
    },
    {
      "cell_type": "code",
      "execution_count": null,
      "metadata": {
        "colab": {
          "background_save": true,
          "base_uri": "https://localhost:8080/",
          "height": 578,
          "referenced_widgets": [
            "fea992536347476f8ee6efbeeb3f4822",
            "c5df2dfd5cb6470495e53a2a9604e56c",
            "1d5cf30dfec14beabdc14babf6ede054",
            "e8dd0c97040c416f9be60a70f9b69466",
            "5ba231afa9f14bd6b79145accce561a0",
            "14cfb13f47a54b568142f0f6799519b4",
            "8dcd0d59b267455b9d48bea1f54e199d",
            "8ade84a128a141029310c8a8a58a3320",
            "ea857282ef72471597be7ebedd6fa0a4",
            "5be4f1cdc59c4f558fe4aa060f402b7e",
            "a4d5ba47a3974853881387da62bae684"
          ]
        },
        "id": "dYbgU-_pb9zZ",
        "outputId": "d3eada66-de58-4414-bd6c-b4c209b1c50d"
      },
      "outputs": [],
      "source": [
        "#@markdown Run for generating videos.\n",
        "\n",
        "prompt = \"1소년, 기타 연주, 잘생김, 앉아있는, 빨간색 기타, 해변\" #@param {type:\"string\"}\n",
        "negative_prompt = \"\" #@param {type:\"string\"}\n",
        "use_inv_latent = True #@param {type:\"boolean\"}\n",
        "inv_latent_path = \"\" #@param {type:\"string\"}\n",
        "num_samples = 1 #@param {type:\"number\"}\n",
        "guidance_scale = 12.5 #@param {type:\"number\"}\n",
        "num_inference_steps = 50 #@param {type:\"number\"}\n",
        "video_length = 14 #@param {type:\"number\"}\n",
        "height = 512 #@param {type:\"number\"}\n",
        "width = 512 #@param {type:\"number\"}\n",
        "\n",
        "ddim_inv_latent = None\n",
        "if use_inv_latent and inv_latent_path == \"\":\n",
        "    from natsort import natsorted\n",
        "    from glob import glob\n",
        "    import os\n",
        "    inv_latent_path = natsorted(glob(f\"{OUTPUT_DIR}/inv_latents/*\"))[-1]\n",
        "    ddim_inv_latent = torch.load(inv_latent_path).to(torch.float16)\n",
        "    print(f\"DDIM inversion latent loaded from {inv_latent_path}\")\n",
        "\n",
        "with autocast(\"cuda\"), torch.inference_mode():\n",
        "    videos = pipe(\n",
        "        prompt,\n",
        "        latents=ddim_inv_latent,\n",
        "        video_length=video_length,\n",
        "        height=height,\n",
        "        width=width,\n",
        "        negative_prompt=negative_prompt,\n",
        "        num_videos_per_prompt=num_samples,\n",
        "        num_inference_steps=num_inference_steps,\n",
        "        guidance_scale=guidance_scale,\n",
        "        generator=g_cuda\n",
        "    ).videos\n",
        "\n",
        "save_dir = \"./results\" #@param {type:\"string\"}\n",
        "save_path = f\"{save_dir}/{prompt}.gif\"\n",
        "save_videos_grid(videos, save_path)\n",
        "\n",
        "# display\n",
        "from IPython.display import Image, display\n",
        "display(Image(filename=save_path))"
      ]
    },
    {
      "cell_type": "code",
      "execution_count": null,
      "metadata": {
        "id": "ACyWIUfcv7iy"
      },
      "outputs": [],
      "source": []
    },
    {
      "cell_type": "code",
      "execution_count": null,
      "metadata": {
        "id": "ieX_yxK0cADj"
      },
      "outputs": [],
      "source": [
        "#@markdown Free runtime memory\n",
        "exit()"
      ]
    },
    {
      "cell_type": "code",
      "execution_count": null,
      "metadata": {
        "id": "Wgrjhpaph49n"
      },
      "outputs": [],
      "source": []
    }
  ],
  "metadata": {
    "accelerator": "GPU",
    "colab": {
      "machine_shape": "hm",
      "provenance": []
    },
    "kernelspec": {
      "display_name": "Python 3",
      "name": "python3"
    },
    "language_info": {
      "name": "python"
    },
    "varInspector": {
      "cols": {
        "lenName": 16,
        "lenType": 16,
        "lenVar": 40
      },
      "kernels_config": {
        "python": {
          "delete_cmd_postfix": "",
          "delete_cmd_prefix": "del ",
          "library": "var_list.py",
          "varRefreshCmd": "print(var_dic_list())"
        },
        "r": {
          "delete_cmd_postfix": ") ",
          "delete_cmd_prefix": "rm(",
          "library": "var_list.r",
          "varRefreshCmd": "cat(var_dic_list()) "
        }
      },
      "types_to_exclude": [
        "module",
        "function",
        "builtin_function_or_method",
        "instance",
        "_Feature"
      ],
      "window_display": false
    },
    "widgets": {
      "application/vnd.jupyter.widget-state+json": {
        "14cfb13f47a54b568142f0f6799519b4": {
          "model_module": "@jupyter-widgets/base",
          "model_module_version": "1.2.0",
          "model_name": "LayoutModel",
          "state": {
            "_model_module": "@jupyter-widgets/base",
            "_model_module_version": "1.2.0",
            "_model_name": "LayoutModel",
            "_view_count": null,
            "_view_module": "@jupyter-widgets/base",
            "_view_module_version": "1.2.0",
            "_view_name": "LayoutView",
            "align_content": null,
            "align_items": null,
            "align_self": null,
            "border": null,
            "bottom": null,
            "display": null,
            "flex": null,
            "flex_flow": null,
            "grid_area": null,
            "grid_auto_columns": null,
            "grid_auto_flow": null,
            "grid_auto_rows": null,
            "grid_column": null,
            "grid_gap": null,
            "grid_row": null,
            "grid_template_areas": null,
            "grid_template_columns": null,
            "grid_template_rows": null,
            "height": null,
            "justify_content": null,
            "justify_items": null,
            "left": null,
            "margin": null,
            "max_height": null,
            "max_width": null,
            "min_height": null,
            "min_width": null,
            "object_fit": null,
            "object_position": null,
            "order": null,
            "overflow": null,
            "overflow_x": null,
            "overflow_y": null,
            "padding": null,
            "right": null,
            "top": null,
            "visibility": null,
            "width": null
          }
        },
        "1d5cf30dfec14beabdc14babf6ede054": {
          "model_module": "@jupyter-widgets/controls",
          "model_module_version": "1.5.0",
          "model_name": "FloatProgressModel",
          "state": {
            "_dom_classes": [],
            "_model_module": "@jupyter-widgets/controls",
            "_model_module_version": "1.5.0",
            "_model_name": "FloatProgressModel",
            "_view_count": null,
            "_view_module": "@jupyter-widgets/controls",
            "_view_module_version": "1.5.0",
            "_view_name": "ProgressView",
            "bar_style": "success",
            "description": "",
            "description_tooltip": null,
            "layout": "IPY_MODEL_8ade84a128a141029310c8a8a58a3320",
            "max": 50,
            "min": 0,
            "orientation": "horizontal",
            "style": "IPY_MODEL_ea857282ef72471597be7ebedd6fa0a4",
            "value": 50
          }
        },
        "5ba231afa9f14bd6b79145accce561a0": {
          "model_module": "@jupyter-widgets/base",
          "model_module_version": "1.2.0",
          "model_name": "LayoutModel",
          "state": {
            "_model_module": "@jupyter-widgets/base",
            "_model_module_version": "1.2.0",
            "_model_name": "LayoutModel",
            "_view_count": null,
            "_view_module": "@jupyter-widgets/base",
            "_view_module_version": "1.2.0",
            "_view_name": "LayoutView",
            "align_content": null,
            "align_items": null,
            "align_self": null,
            "border": null,
            "bottom": null,
            "display": null,
            "flex": null,
            "flex_flow": null,
            "grid_area": null,
            "grid_auto_columns": null,
            "grid_auto_flow": null,
            "grid_auto_rows": null,
            "grid_column": null,
            "grid_gap": null,
            "grid_row": null,
            "grid_template_areas": null,
            "grid_template_columns": null,
            "grid_template_rows": null,
            "height": null,
            "justify_content": null,
            "justify_items": null,
            "left": null,
            "margin": null,
            "max_height": null,
            "max_width": null,
            "min_height": null,
            "min_width": null,
            "object_fit": null,
            "object_position": null,
            "order": null,
            "overflow": null,
            "overflow_x": null,
            "overflow_y": null,
            "padding": null,
            "right": null,
            "top": null,
            "visibility": null,
            "width": null
          }
        },
        "5be4f1cdc59c4f558fe4aa060f402b7e": {
          "model_module": "@jupyter-widgets/base",
          "model_module_version": "1.2.0",
          "model_name": "LayoutModel",
          "state": {
            "_model_module": "@jupyter-widgets/base",
            "_model_module_version": "1.2.0",
            "_model_name": "LayoutModel",
            "_view_count": null,
            "_view_module": "@jupyter-widgets/base",
            "_view_module_version": "1.2.0",
            "_view_name": "LayoutView",
            "align_content": null,
            "align_items": null,
            "align_self": null,
            "border": null,
            "bottom": null,
            "display": null,
            "flex": null,
            "flex_flow": null,
            "grid_area": null,
            "grid_auto_columns": null,
            "grid_auto_flow": null,
            "grid_auto_rows": null,
            "grid_column": null,
            "grid_gap": null,
            "grid_row": null,
            "grid_template_areas": null,
            "grid_template_columns": null,
            "grid_template_rows": null,
            "height": null,
            "justify_content": null,
            "justify_items": null,
            "left": null,
            "margin": null,
            "max_height": null,
            "max_width": null,
            "min_height": null,
            "min_width": null,
            "object_fit": null,
            "object_position": null,
            "order": null,
            "overflow": null,
            "overflow_x": null,
            "overflow_y": null,
            "padding": null,
            "right": null,
            "top": null,
            "visibility": null,
            "width": null
          }
        },
        "8ade84a128a141029310c8a8a58a3320": {
          "model_module": "@jupyter-widgets/base",
          "model_module_version": "1.2.0",
          "model_name": "LayoutModel",
          "state": {
            "_model_module": "@jupyter-widgets/base",
            "_model_module_version": "1.2.0",
            "_model_name": "LayoutModel",
            "_view_count": null,
            "_view_module": "@jupyter-widgets/base",
            "_view_module_version": "1.2.0",
            "_view_name": "LayoutView",
            "align_content": null,
            "align_items": null,
            "align_self": null,
            "border": null,
            "bottom": null,
            "display": null,
            "flex": null,
            "flex_flow": null,
            "grid_area": null,
            "grid_auto_columns": null,
            "grid_auto_flow": null,
            "grid_auto_rows": null,
            "grid_column": null,
            "grid_gap": null,
            "grid_row": null,
            "grid_template_areas": null,
            "grid_template_columns": null,
            "grid_template_rows": null,
            "height": null,
            "justify_content": null,
            "justify_items": null,
            "left": null,
            "margin": null,
            "max_height": null,
            "max_width": null,
            "min_height": null,
            "min_width": null,
            "object_fit": null,
            "object_position": null,
            "order": null,
            "overflow": null,
            "overflow_x": null,
            "overflow_y": null,
            "padding": null,
            "right": null,
            "top": null,
            "visibility": null,
            "width": null
          }
        },
        "8dcd0d59b267455b9d48bea1f54e199d": {
          "model_module": "@jupyter-widgets/controls",
          "model_module_version": "1.5.0",
          "model_name": "DescriptionStyleModel",
          "state": {
            "_model_module": "@jupyter-widgets/controls",
            "_model_module_version": "1.5.0",
            "_model_name": "DescriptionStyleModel",
            "_view_count": null,
            "_view_module": "@jupyter-widgets/base",
            "_view_module_version": "1.2.0",
            "_view_name": "StyleView",
            "description_width": ""
          }
        },
        "a4d5ba47a3974853881387da62bae684": {
          "model_module": "@jupyter-widgets/controls",
          "model_module_version": "1.5.0",
          "model_name": "DescriptionStyleModel",
          "state": {
            "_model_module": "@jupyter-widgets/controls",
            "_model_module_version": "1.5.0",
            "_model_name": "DescriptionStyleModel",
            "_view_count": null,
            "_view_module": "@jupyter-widgets/base",
            "_view_module_version": "1.2.0",
            "_view_name": "StyleView",
            "description_width": ""
          }
        },
        "c5df2dfd5cb6470495e53a2a9604e56c": {
          "model_module": "@jupyter-widgets/controls",
          "model_module_version": "1.5.0",
          "model_name": "HTMLModel",
          "state": {
            "_dom_classes": [],
            "_model_module": "@jupyter-widgets/controls",
            "_model_module_version": "1.5.0",
            "_model_name": "HTMLModel",
            "_view_count": null,
            "_view_module": "@jupyter-widgets/controls",
            "_view_module_version": "1.5.0",
            "_view_name": "HTMLView",
            "description": "",
            "description_tooltip": null,
            "layout": "IPY_MODEL_14cfb13f47a54b568142f0f6799519b4",
            "placeholder": "​",
            "style": "IPY_MODEL_8dcd0d59b267455b9d48bea1f54e199d",
            "value": "100%"
          }
        },
        "e8dd0c97040c416f9be60a70f9b69466": {
          "model_module": "@jupyter-widgets/controls",
          "model_module_version": "1.5.0",
          "model_name": "HTMLModel",
          "state": {
            "_dom_classes": [],
            "_model_module": "@jupyter-widgets/controls",
            "_model_module_version": "1.5.0",
            "_model_name": "HTMLModel",
            "_view_count": null,
            "_view_module": "@jupyter-widgets/controls",
            "_view_module_version": "1.5.0",
            "_view_name": "HTMLView",
            "description": "",
            "description_tooltip": null,
            "layout": "IPY_MODEL_5be4f1cdc59c4f558fe4aa060f402b7e",
            "placeholder": "​",
            "style": "IPY_MODEL_a4d5ba47a3974853881387da62bae684",
            "value": " 50/50 [00:19&lt;00:00,  2.56it/s]"
          }
        },
        "ea857282ef72471597be7ebedd6fa0a4": {
          "model_module": "@jupyter-widgets/controls",
          "model_module_version": "1.5.0",
          "model_name": "ProgressStyleModel",
          "state": {
            "_model_module": "@jupyter-widgets/controls",
            "_model_module_version": "1.5.0",
            "_model_name": "ProgressStyleModel",
            "_view_count": null,
            "_view_module": "@jupyter-widgets/base",
            "_view_module_version": "1.2.0",
            "_view_name": "StyleView",
            "bar_color": null,
            "description_width": ""
          }
        },
        "fea992536347476f8ee6efbeeb3f4822": {
          "model_module": "@jupyter-widgets/controls",
          "model_module_version": "1.5.0",
          "model_name": "HBoxModel",
          "state": {
            "_dom_classes": [],
            "_model_module": "@jupyter-widgets/controls",
            "_model_module_version": "1.5.0",
            "_model_name": "HBoxModel",
            "_view_count": null,
            "_view_module": "@jupyter-widgets/controls",
            "_view_module_version": "1.5.0",
            "_view_name": "HBoxView",
            "box_style": "",
            "children": [
              "IPY_MODEL_c5df2dfd5cb6470495e53a2a9604e56c",
              "IPY_MODEL_1d5cf30dfec14beabdc14babf6ede054",
              "IPY_MODEL_e8dd0c97040c416f9be60a70f9b69466"
            ],
            "layout": "IPY_MODEL_5ba231afa9f14bd6b79145accce561a0"
          }
        }
      }
    }
  },
  "nbformat": 4,
  "nbformat_minor": 0
}
